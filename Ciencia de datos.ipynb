{
 "cells": [
  {
   "cell_type": "markdown",
   "metadata": {},
   "source": [
    "<center>\n",
    "    <img src=\"https://cf-courses-data.s3.us.cloud-object-storage.appdomain.cloud/IBMDeveloperSkillsNetwork-DS0105EN-SkillsNetwork/labs/Module2/images/SN_web_lightmode.png\" width=\"300\" alt=\"cognitiveclass.ai logo\">\n",
    "</center>\n"
   ]
  },
  {
   "cell_type": "markdown",
   "metadata": {},
   "source": [
    "#### Add your code below following the instructions given in the course\n"
   ]
  },
  {
   "cell_type": "markdown",
   "metadata": {},
   "source": [
    "# Proyecto Final - Ciencia de Datos"
   ]
  },
  {
   "cell_type": "markdown",
   "metadata": {},
   "source": [
    "## Introducción - En este cuaderno, exploraremos diversas herramientas y conceptos clave de la Ciencia de Datos.\n"
   ]
  },
  {
   "cell_type": "markdown",
   "metadata": {},
   "source": [
    "## Lenguajes de Programación para Ciencia de Datos  \n",
    "## Algunos de los lenguajes más utilizados son:\n",
    "- Python  \n",
    "- R  \n",
    "- SQL  \n",
    "- Julia  \n",
    "- Scala  \n"
   ]
  },
  {
   "cell_type": "markdown",
   "metadata": {},
   "source": [
    "## Bibliotecas de Ciencia de Datos  - Algunas bibliotecas populares son:\n",
    "- Pandas  \n",
    "- NumPy  \n",
    "- Matplotlib  \n",
    "- Scikit-learn  \n",
    "- TensorFlow  \n"
   ]
  },
  {
   "cell_type": "markdown",
   "metadata": {},
   "source": [
    "## Herramientas de Ciencia de Datos  \n",
    "\n",
    "| Herramienta       | Uso Principal         |\n",
    "|-------------------|----------------------|\n",
    "| Jupyter Notebook | Análisis y Visualización |\n",
    "| RStudio          | Desarrollo con R        |\n",
    "| Apache Spark     | Procesamiento de Big Data |\n",
    "| TensorFlow       | Aprendizaje Automático  |\n"
   ]
  },
  {
   "cell_type": "markdown",
   "metadata": {},
   "source": [
    "## Expresiones Aritméticas  - Algunos ejemplos de expresiones aritméticas en Python:\n",
    "- Suma: 3 + 3 = 6\n",
    "- Resta: 9 - 4 = 5\n",
    "- Multiplicación: 5 * 5 = 25  \n",
    "- División: 10 / 2 = 5.0 \n"
   ]
  },
  {
   "cell_type": "code",
   "execution_count": 27,
   "metadata": {},
   "outputs": [
    {
     "name": "stdout",
     "output_type": "stream",
     "text": [
      "Resultado de la operación: 29\n"
     ]
    }
   ],
   "source": [
    "# Multiplicación y suma\n",
    "a = 9 * 3\n",
    "b = a + 2\n",
    "print(\"Resultado de la operación:\", b)\n"
   ]
  },
  {
   "cell_type": "code",
   "execution_count": 28,
   "metadata": {},
   "outputs": [
    {
     "name": "stdout",
     "output_type": "stream",
     "text": [
      "120 minutos equivalen a 2.0 horas\n"
     ]
    }
   ],
   "source": [
    "# Conversión de minutos a horas\n",
    "minutos = 120\n",
    "horas = minutos / 60\n",
    "print(f\"{minutos} minutos equivalen a {horas} horas\")\n"
   ]
  },
  {
   "cell_type": "code",
   "execution_count": 29,
   "metadata": {},
   "outputs": [
    {
     "name": "stdout",
     "output_type": "stream",
     "text": [
      "- Aprender Python\n",
      "- Entender herramientas sobre Ciencia de Datos\n",
      "- Aplicar técnicas de análisis\n"
     ]
    }
   ],
   "source": [
    "# Lista de objetivos del curso\n",
    "objetivos = [\"Aprender Python\", \"Entender herramientas sobre Ciencia de Datos\", \"Aplicar técnicas de análisis\"]\n",
    "for objetivo in objetivos:\n",
    "    print(\"- \" + objetivo)\n"
   ]
  },
  {
   "cell_type": "markdown",
   "metadata": {
    "scrolled": true
   },
   "source": [
    "## Autor  \n",
    "**Carlo Martinez**\n"
   ]
  },
  {
   "cell_type": "code",
   "execution_count": null,
   "metadata": {},
   "outputs": [],
   "source": []
  }
 ],
 "metadata": {
  "kernelspec": {
   "display_name": "Python 3 (ipykernel)",
   "language": "python",
   "name": "python3"
  },
  "language_info": {
   "codemirror_mode": {
    "name": "ipython",
    "version": 3
   },
   "file_extension": ".py",
   "mimetype": "text/x-python",
   "name": "python",
   "nbconvert_exporter": "python",
   "pygments_lexer": "ipython3",
   "version": "3.12.8"
  }
 },
 "nbformat": 4,
 "nbformat_minor": 4
}
